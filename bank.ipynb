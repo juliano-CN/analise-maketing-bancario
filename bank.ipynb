{
 "cells": [
  {
   "cell_type": "code",
   "execution_count": 274,
   "metadata": {},
   "outputs": [],
   "source": [
    "#https://archive.ics.uci.edu/dataset/222/bank+marketing\n",
    "#importar os dados (X)\n",
    "#analise desritiva das variaveis\n",
    "#modelo de classificacao\n"
   ]
  },
  {
   "cell_type": "markdown",
   "metadata": {},
   "source": [
    "Os dados contém informações sobre clientes abordados em uma campanha de marketing por telefone. O objetivo desta análise é criar um modelo para estimar se um cliente vai ou não fazer um depósito no banco (variável resposta denominada y).\n",
    "\n",
    "* Variáveis: \n",
    "    - y: Se no cliente dez um depósito (Variável resposta)\n",
    "    - age: Idade\n",
    "    - job: Ocupação\n",
    "    - marital: Estado civil (divorciado, casado ou solteiro)\n",
    "    - education: Nível de educação\n",
    "    - default: Se o cliente tem crédito em inadimplência\n",
    "    - balance: Saldo médio anual\n",
    "    - housing: Se tem empréstimo imobiliário\n",
    "    - loan: Se tem empréstimo pessoal\n",
    "    - contact: Tipo de contato (celular ou telefone)\n",
    "    - day_of_week: Dia da semana do último contato\n",
    "    - month: Mês do último contato\n",
    "    - duration: Duração (em segundos) do último contato\n",
    "    - campaign: Número de contatos feito com o cliente durante o período da campanha\n",
    "    - pdays: Número de dias que se passaram deste o último contato em uma campanha anterior\n",
    "    - previous: Número de dias que se passaram deste o último contato nesta mesma campanha\n",
    "    - poutcome: Resultado da campanha anterior"
   ]
  },
  {
   "cell_type": "code",
   "execution_count": 275,
   "metadata": {},
   "outputs": [],
   "source": [
    "#acessando os dados\n",
    "from ucimlrepo import fetch_ucirepo \n",
    "import pandas as pd\n",
    "\n",
    "bank_marketing = fetch_ucirepo(id=222)\n",
    "\n",
    "X = bank_marketing.data.features \n",
    "y = bank_marketing.data.targets\n",
    "\n",
    "df = pd.concat([y,X],axis=1)"
   ]
  },
  {
   "cell_type": "code",
   "execution_count": 276,
   "metadata": {},
   "outputs": [],
   "source": [
    "df['month'] = df['month'].astype('category')"
   ]
  },
  {
   "cell_type": "code",
   "execution_count": 277,
   "metadata": {},
   "outputs": [
    {
     "name": "stdout",
     "output_type": "stream",
     "text": [
      "<class 'pandas.core.frame.DataFrame'>\n",
      "RangeIndex: 45211 entries, 0 to 45210\n",
      "Data columns (total 17 columns):\n",
      " #   Column       Non-Null Count  Dtype   \n",
      "---  ------       --------------  -----   \n",
      " 0   y            45211 non-null  object  \n",
      " 1   age          45211 non-null  int64   \n",
      " 2   job          44923 non-null  object  \n",
      " 3   marital      45211 non-null  object  \n",
      " 4   education    43354 non-null  object  \n",
      " 5   default      45211 non-null  object  \n",
      " 6   balance      45211 non-null  int64   \n",
      " 7   housing      45211 non-null  object  \n",
      " 8   loan         45211 non-null  object  \n",
      " 9   contact      32191 non-null  object  \n",
      " 10  day_of_week  45211 non-null  int64   \n",
      " 11  month        45211 non-null  category\n",
      " 12  duration     45211 non-null  int64   \n",
      " 13  campaign     45211 non-null  int64   \n",
      " 14  pdays        45211 non-null  int64   \n",
      " 15  previous     45211 non-null  int64   \n",
      " 16  poutcome     8252 non-null   object  \n",
      "dtypes: category(1), int64(7), object(9)\n",
      "memory usage: 5.6+ MB\n"
     ]
    }
   ],
   "source": [
    "df.info()"
   ]
  },
  {
   "cell_type": "code",
   "execution_count": 278,
   "metadata": {},
   "outputs": [
    {
     "data": {
      "text/html": [
       "<div>\n",
       "<style scoped>\n",
       "    .dataframe tbody tr th:only-of-type {\n",
       "        vertical-align: middle;\n",
       "    }\n",
       "\n",
       "    .dataframe tbody tr th {\n",
       "        vertical-align: top;\n",
       "    }\n",
       "\n",
       "    .dataframe thead th {\n",
       "        text-align: right;\n",
       "    }\n",
       "</style>\n",
       "<table border=\"1\" class=\"dataframe\">\n",
       "  <thead>\n",
       "    <tr style=\"text-align: right;\">\n",
       "      <th></th>\n",
       "      <th>y</th>\n",
       "      <th>age</th>\n",
       "      <th>job</th>\n",
       "      <th>marital</th>\n",
       "      <th>education</th>\n",
       "      <th>default</th>\n",
       "      <th>balance</th>\n",
       "      <th>housing</th>\n",
       "      <th>loan</th>\n",
       "      <th>contact</th>\n",
       "      <th>day_of_week</th>\n",
       "      <th>month</th>\n",
       "      <th>duration</th>\n",
       "      <th>campaign</th>\n",
       "      <th>pdays</th>\n",
       "      <th>previous</th>\n",
       "      <th>poutcome</th>\n",
       "    </tr>\n",
       "  </thead>\n",
       "  <tbody>\n",
       "    <tr>\n",
       "      <th>0</th>\n",
       "      <td>no</td>\n",
       "      <td>58</td>\n",
       "      <td>management</td>\n",
       "      <td>married</td>\n",
       "      <td>tertiary</td>\n",
       "      <td>no</td>\n",
       "      <td>2143</td>\n",
       "      <td>yes</td>\n",
       "      <td>no</td>\n",
       "      <td>NaN</td>\n",
       "      <td>5</td>\n",
       "      <td>may</td>\n",
       "      <td>261</td>\n",
       "      <td>1</td>\n",
       "      <td>-1</td>\n",
       "      <td>0</td>\n",
       "      <td>NaN</td>\n",
       "    </tr>\n",
       "    <tr>\n",
       "      <th>1</th>\n",
       "      <td>no</td>\n",
       "      <td>44</td>\n",
       "      <td>technician</td>\n",
       "      <td>single</td>\n",
       "      <td>secondary</td>\n",
       "      <td>no</td>\n",
       "      <td>29</td>\n",
       "      <td>yes</td>\n",
       "      <td>no</td>\n",
       "      <td>NaN</td>\n",
       "      <td>5</td>\n",
       "      <td>may</td>\n",
       "      <td>151</td>\n",
       "      <td>1</td>\n",
       "      <td>-1</td>\n",
       "      <td>0</td>\n",
       "      <td>NaN</td>\n",
       "    </tr>\n",
       "    <tr>\n",
       "      <th>2</th>\n",
       "      <td>no</td>\n",
       "      <td>33</td>\n",
       "      <td>entrepreneur</td>\n",
       "      <td>married</td>\n",
       "      <td>secondary</td>\n",
       "      <td>no</td>\n",
       "      <td>2</td>\n",
       "      <td>yes</td>\n",
       "      <td>yes</td>\n",
       "      <td>NaN</td>\n",
       "      <td>5</td>\n",
       "      <td>may</td>\n",
       "      <td>76</td>\n",
       "      <td>1</td>\n",
       "      <td>-1</td>\n",
       "      <td>0</td>\n",
       "      <td>NaN</td>\n",
       "    </tr>\n",
       "    <tr>\n",
       "      <th>3</th>\n",
       "      <td>no</td>\n",
       "      <td>47</td>\n",
       "      <td>blue-collar</td>\n",
       "      <td>married</td>\n",
       "      <td>NaN</td>\n",
       "      <td>no</td>\n",
       "      <td>1506</td>\n",
       "      <td>yes</td>\n",
       "      <td>no</td>\n",
       "      <td>NaN</td>\n",
       "      <td>5</td>\n",
       "      <td>may</td>\n",
       "      <td>92</td>\n",
       "      <td>1</td>\n",
       "      <td>-1</td>\n",
       "      <td>0</td>\n",
       "      <td>NaN</td>\n",
       "    </tr>\n",
       "    <tr>\n",
       "      <th>4</th>\n",
       "      <td>no</td>\n",
       "      <td>33</td>\n",
       "      <td>NaN</td>\n",
       "      <td>single</td>\n",
       "      <td>NaN</td>\n",
       "      <td>no</td>\n",
       "      <td>1</td>\n",
       "      <td>no</td>\n",
       "      <td>no</td>\n",
       "      <td>NaN</td>\n",
       "      <td>5</td>\n",
       "      <td>may</td>\n",
       "      <td>198</td>\n",
       "      <td>1</td>\n",
       "      <td>-1</td>\n",
       "      <td>0</td>\n",
       "      <td>NaN</td>\n",
       "    </tr>\n",
       "    <tr>\n",
       "      <th>5</th>\n",
       "      <td>no</td>\n",
       "      <td>35</td>\n",
       "      <td>management</td>\n",
       "      <td>married</td>\n",
       "      <td>tertiary</td>\n",
       "      <td>no</td>\n",
       "      <td>231</td>\n",
       "      <td>yes</td>\n",
       "      <td>no</td>\n",
       "      <td>NaN</td>\n",
       "      <td>5</td>\n",
       "      <td>may</td>\n",
       "      <td>139</td>\n",
       "      <td>1</td>\n",
       "      <td>-1</td>\n",
       "      <td>0</td>\n",
       "      <td>NaN</td>\n",
       "    </tr>\n",
       "  </tbody>\n",
       "</table>\n",
       "</div>"
      ],
      "text/plain": [
       "    y  age           job  marital  education default  balance housing loan  \\\n",
       "0  no   58    management  married   tertiary      no     2143     yes   no   \n",
       "1  no   44    technician   single  secondary      no       29     yes   no   \n",
       "2  no   33  entrepreneur  married  secondary      no        2     yes  yes   \n",
       "3  no   47   blue-collar  married        NaN      no     1506     yes   no   \n",
       "4  no   33           NaN   single        NaN      no        1      no   no   \n",
       "5  no   35    management  married   tertiary      no      231     yes   no   \n",
       "\n",
       "  contact  day_of_week month  duration  campaign  pdays  previous poutcome  \n",
       "0     NaN            5   may       261         1     -1         0      NaN  \n",
       "1     NaN            5   may       151         1     -1         0      NaN  \n",
       "2     NaN            5   may        76         1     -1         0      NaN  \n",
       "3     NaN            5   may        92         1     -1         0      NaN  \n",
       "4     NaN            5   may       198         1     -1         0      NaN  \n",
       "5     NaN            5   may       139         1     -1         0      NaN  "
      ]
     },
     "execution_count": 278,
     "metadata": {},
     "output_type": "execute_result"
    }
   ],
   "source": [
    "#visualização dos dados\n",
    "df.head(6)"
   ]
  },
  {
   "cell_type": "markdown",
   "metadata": {},
   "source": [
    "# Estatística descritiva"
   ]
  },
  {
   "cell_type": "code",
   "execution_count": 279,
   "metadata": {},
   "outputs": [
    {
     "name": "stdout",
     "output_type": "stream",
     "text": [
      "y\n"
     ]
    },
    {
     "data": {
      "text/html": [
       "<div>\n",
       "<style scoped>\n",
       "    .dataframe tbody tr th:only-of-type {\n",
       "        vertical-align: middle;\n",
       "    }\n",
       "\n",
       "    .dataframe tbody tr th {\n",
       "        vertical-align: top;\n",
       "    }\n",
       "\n",
       "    .dataframe thead th {\n",
       "        text-align: right;\n",
       "    }\n",
       "</style>\n",
       "<table border=\"1\" class=\"dataframe\">\n",
       "  <thead>\n",
       "    <tr style=\"text-align: right;\">\n",
       "      <th></th>\n",
       "      <th>count</th>\n",
       "      <th>unique</th>\n",
       "      <th>top</th>\n",
       "      <th>freq</th>\n",
       "    </tr>\n",
       "    <tr>\n",
       "      <th>y</th>\n",
       "      <th></th>\n",
       "      <th></th>\n",
       "      <th></th>\n",
       "      <th></th>\n",
       "    </tr>\n",
       "  </thead>\n",
       "  <tbody>\n",
       "    <tr>\n",
       "      <th>no</th>\n",
       "      <td>39922</td>\n",
       "      <td>1</td>\n",
       "      <td>no</td>\n",
       "      <td>39922</td>\n",
       "    </tr>\n",
       "    <tr>\n",
       "      <th>yes</th>\n",
       "      <td>5289</td>\n",
       "      <td>1</td>\n",
       "      <td>yes</td>\n",
       "      <td>5289</td>\n",
       "    </tr>\n",
       "  </tbody>\n",
       "</table>\n",
       "</div>"
      ],
      "text/plain": [
       "     count unique  top   freq\n",
       "y                            \n",
       "no   39922      1   no  39922\n",
       "yes   5289      1  yes   5289"
      ]
     },
     "metadata": {},
     "output_type": "display_data"
    },
    {
     "name": "stdout",
     "output_type": "stream",
     "text": [
      "age\n"
     ]
    },
    {
     "data": {
      "text/html": [
       "<div>\n",
       "<style scoped>\n",
       "    .dataframe tbody tr th:only-of-type {\n",
       "        vertical-align: middle;\n",
       "    }\n",
       "\n",
       "    .dataframe tbody tr th {\n",
       "        vertical-align: top;\n",
       "    }\n",
       "\n",
       "    .dataframe thead th {\n",
       "        text-align: right;\n",
       "    }\n",
       "</style>\n",
       "<table border=\"1\" class=\"dataframe\">\n",
       "  <thead>\n",
       "    <tr style=\"text-align: right;\">\n",
       "      <th></th>\n",
       "      <th>count</th>\n",
       "      <th>mean</th>\n",
       "      <th>std</th>\n",
       "      <th>min</th>\n",
       "      <th>25%</th>\n",
       "      <th>50%</th>\n",
       "      <th>75%</th>\n",
       "      <th>max</th>\n",
       "    </tr>\n",
       "    <tr>\n",
       "      <th>y</th>\n",
       "      <th></th>\n",
       "      <th></th>\n",
       "      <th></th>\n",
       "      <th></th>\n",
       "      <th></th>\n",
       "      <th></th>\n",
       "      <th></th>\n",
       "      <th></th>\n",
       "    </tr>\n",
       "  </thead>\n",
       "  <tbody>\n",
       "    <tr>\n",
       "      <th>no</th>\n",
       "      <td>39922.0</td>\n",
       "      <td>40.838986</td>\n",
       "      <td>10.172662</td>\n",
       "      <td>18.0</td>\n",
       "      <td>33.0</td>\n",
       "      <td>39.0</td>\n",
       "      <td>48.0</td>\n",
       "      <td>95.0</td>\n",
       "    </tr>\n",
       "    <tr>\n",
       "      <th>yes</th>\n",
       "      <td>5289.0</td>\n",
       "      <td>41.670070</td>\n",
       "      <td>13.497781</td>\n",
       "      <td>18.0</td>\n",
       "      <td>31.0</td>\n",
       "      <td>38.0</td>\n",
       "      <td>50.0</td>\n",
       "      <td>95.0</td>\n",
       "    </tr>\n",
       "  </tbody>\n",
       "</table>\n",
       "</div>"
      ],
      "text/plain": [
       "       count       mean        std   min   25%   50%   75%   max\n",
       "y                                                               \n",
       "no   39922.0  40.838986  10.172662  18.0  33.0  39.0  48.0  95.0\n",
       "yes   5289.0  41.670070  13.497781  18.0  31.0  38.0  50.0  95.0"
      ]
     },
     "metadata": {},
     "output_type": "display_data"
    },
    {
     "name": "stdout",
     "output_type": "stream",
     "text": [
      "balance\n"
     ]
    },
    {
     "data": {
      "text/html": [
       "<div>\n",
       "<style scoped>\n",
       "    .dataframe tbody tr th:only-of-type {\n",
       "        vertical-align: middle;\n",
       "    }\n",
       "\n",
       "    .dataframe tbody tr th {\n",
       "        vertical-align: top;\n",
       "    }\n",
       "\n",
       "    .dataframe thead th {\n",
       "        text-align: right;\n",
       "    }\n",
       "</style>\n",
       "<table border=\"1\" class=\"dataframe\">\n",
       "  <thead>\n",
       "    <tr style=\"text-align: right;\">\n",
       "      <th></th>\n",
       "      <th>count</th>\n",
       "      <th>mean</th>\n",
       "      <th>std</th>\n",
       "      <th>min</th>\n",
       "      <th>25%</th>\n",
       "      <th>50%</th>\n",
       "      <th>75%</th>\n",
       "      <th>max</th>\n",
       "    </tr>\n",
       "    <tr>\n",
       "      <th>y</th>\n",
       "      <th></th>\n",
       "      <th></th>\n",
       "      <th></th>\n",
       "      <th></th>\n",
       "      <th></th>\n",
       "      <th></th>\n",
       "      <th></th>\n",
       "      <th></th>\n",
       "    </tr>\n",
       "  </thead>\n",
       "  <tbody>\n",
       "    <tr>\n",
       "      <th>no</th>\n",
       "      <td>39922.0</td>\n",
       "      <td>1303.714969</td>\n",
       "      <td>2974.195473</td>\n",
       "      <td>-8019.0</td>\n",
       "      <td>58.0</td>\n",
       "      <td>417.0</td>\n",
       "      <td>1345.0</td>\n",
       "      <td>102127.0</td>\n",
       "    </tr>\n",
       "    <tr>\n",
       "      <th>yes</th>\n",
       "      <td>5289.0</td>\n",
       "      <td>1804.267915</td>\n",
       "      <td>3501.104777</td>\n",
       "      <td>-3058.0</td>\n",
       "      <td>210.0</td>\n",
       "      <td>733.0</td>\n",
       "      <td>2159.0</td>\n",
       "      <td>81204.0</td>\n",
       "    </tr>\n",
       "  </tbody>\n",
       "</table>\n",
       "</div>"
      ],
      "text/plain": [
       "       count         mean          std     min    25%    50%     75%       max\n",
       "y                                                                             \n",
       "no   39922.0  1303.714969  2974.195473 -8019.0   58.0  417.0  1345.0  102127.0\n",
       "yes   5289.0  1804.267915  3501.104777 -3058.0  210.0  733.0  2159.0   81204.0"
      ]
     },
     "metadata": {},
     "output_type": "display_data"
    },
    {
     "name": "stdout",
     "output_type": "stream",
     "text": [
      "duration\n"
     ]
    },
    {
     "data": {
      "text/html": [
       "<div>\n",
       "<style scoped>\n",
       "    .dataframe tbody tr th:only-of-type {\n",
       "        vertical-align: middle;\n",
       "    }\n",
       "\n",
       "    .dataframe tbody tr th {\n",
       "        vertical-align: top;\n",
       "    }\n",
       "\n",
       "    .dataframe thead th {\n",
       "        text-align: right;\n",
       "    }\n",
       "</style>\n",
       "<table border=\"1\" class=\"dataframe\">\n",
       "  <thead>\n",
       "    <tr style=\"text-align: right;\">\n",
       "      <th></th>\n",
       "      <th>count</th>\n",
       "      <th>mean</th>\n",
       "      <th>std</th>\n",
       "      <th>min</th>\n",
       "      <th>25%</th>\n",
       "      <th>50%</th>\n",
       "      <th>75%</th>\n",
       "      <th>max</th>\n",
       "    </tr>\n",
       "    <tr>\n",
       "      <th>y</th>\n",
       "      <th></th>\n",
       "      <th></th>\n",
       "      <th></th>\n",
       "      <th></th>\n",
       "      <th></th>\n",
       "      <th></th>\n",
       "      <th></th>\n",
       "      <th></th>\n",
       "    </tr>\n",
       "  </thead>\n",
       "  <tbody>\n",
       "    <tr>\n",
       "      <th>no</th>\n",
       "      <td>39922.0</td>\n",
       "      <td>221.182806</td>\n",
       "      <td>207.383237</td>\n",
       "      <td>0.0</td>\n",
       "      <td>95.0</td>\n",
       "      <td>164.0</td>\n",
       "      <td>279.0</td>\n",
       "      <td>4918.0</td>\n",
       "    </tr>\n",
       "    <tr>\n",
       "      <th>yes</th>\n",
       "      <td>5289.0</td>\n",
       "      <td>537.294574</td>\n",
       "      <td>392.525262</td>\n",
       "      <td>8.0</td>\n",
       "      <td>244.0</td>\n",
       "      <td>426.0</td>\n",
       "      <td>725.0</td>\n",
       "      <td>3881.0</td>\n",
       "    </tr>\n",
       "  </tbody>\n",
       "</table>\n",
       "</div>"
      ],
      "text/plain": [
       "       count        mean         std  min    25%    50%    75%     max\n",
       "y                                                                     \n",
       "no   39922.0  221.182806  207.383237  0.0   95.0  164.0  279.0  4918.0\n",
       "yes   5289.0  537.294574  392.525262  8.0  244.0  426.0  725.0  3881.0"
      ]
     },
     "metadata": {},
     "output_type": "display_data"
    },
    {
     "name": "stdout",
     "output_type": "stream",
     "text": [
      "campaign\n"
     ]
    },
    {
     "data": {
      "text/html": [
       "<div>\n",
       "<style scoped>\n",
       "    .dataframe tbody tr th:only-of-type {\n",
       "        vertical-align: middle;\n",
       "    }\n",
       "\n",
       "    .dataframe tbody tr th {\n",
       "        vertical-align: top;\n",
       "    }\n",
       "\n",
       "    .dataframe thead th {\n",
       "        text-align: right;\n",
       "    }\n",
       "</style>\n",
       "<table border=\"1\" class=\"dataframe\">\n",
       "  <thead>\n",
       "    <tr style=\"text-align: right;\">\n",
       "      <th></th>\n",
       "      <th>count</th>\n",
       "      <th>mean</th>\n",
       "      <th>std</th>\n",
       "      <th>min</th>\n",
       "      <th>25%</th>\n",
       "      <th>50%</th>\n",
       "      <th>75%</th>\n",
       "      <th>max</th>\n",
       "    </tr>\n",
       "    <tr>\n",
       "      <th>y</th>\n",
       "      <th></th>\n",
       "      <th></th>\n",
       "      <th></th>\n",
       "      <th></th>\n",
       "      <th></th>\n",
       "      <th></th>\n",
       "      <th></th>\n",
       "      <th></th>\n",
       "    </tr>\n",
       "  </thead>\n",
       "  <tbody>\n",
       "    <tr>\n",
       "      <th>no</th>\n",
       "      <td>39922.0</td>\n",
       "      <td>2.846350</td>\n",
       "      <td>3.212767</td>\n",
       "      <td>1.0</td>\n",
       "      <td>1.0</td>\n",
       "      <td>2.0</td>\n",
       "      <td>3.0</td>\n",
       "      <td>63.0</td>\n",
       "    </tr>\n",
       "    <tr>\n",
       "      <th>yes</th>\n",
       "      <td>5289.0</td>\n",
       "      <td>2.141047</td>\n",
       "      <td>1.921826</td>\n",
       "      <td>1.0</td>\n",
       "      <td>1.0</td>\n",
       "      <td>2.0</td>\n",
       "      <td>3.0</td>\n",
       "      <td>32.0</td>\n",
       "    </tr>\n",
       "  </tbody>\n",
       "</table>\n",
       "</div>"
      ],
      "text/plain": [
       "       count      mean       std  min  25%  50%  75%   max\n",
       "y                                                         \n",
       "no   39922.0  2.846350  3.212767  1.0  1.0  2.0  3.0  63.0\n",
       "yes   5289.0  2.141047  1.921826  1.0  1.0  2.0  3.0  32.0"
      ]
     },
     "metadata": {},
     "output_type": "display_data"
    }
   ],
   "source": [
    "import matplotlib.pyplot as plt\n",
    "import seaborn as sns\n",
    "import numpy as np\n",
    "\n",
    "numerical_variables = ['y','age','balance','duration','campaign']#age\n",
    "\n",
    "for i in numerical_variables:\n",
    "    print(i)\n",
    "    display(df.groupby('y')[i].describe())"
   ]
  },
  {
   "cell_type": "code",
   "execution_count": 280,
   "metadata": {},
   "outputs": [
    {
     "data": {
      "text/html": [
       "<div>\n",
       "<style scoped>\n",
       "    .dataframe tbody tr th:only-of-type {\n",
       "        vertical-align: middle;\n",
       "    }\n",
       "\n",
       "    .dataframe tbody tr th {\n",
       "        vertical-align: top;\n",
       "    }\n",
       "\n",
       "    .dataframe thead th {\n",
       "        text-align: right;\n",
       "    }\n",
       "</style>\n",
       "<table border=\"1\" class=\"dataframe\">\n",
       "  <thead>\n",
       "    <tr style=\"text-align: right;\">\n",
       "      <th></th>\n",
       "      <th></th>\n",
       "      <th>age</th>\n",
       "      <th>balance</th>\n",
       "      <th>duration</th>\n",
       "      <th>campaign</th>\n",
       "    </tr>\n",
       "    <tr>\n",
       "      <th>y</th>\n",
       "      <th></th>\n",
       "      <th></th>\n",
       "      <th></th>\n",
       "      <th></th>\n",
       "      <th></th>\n",
       "    </tr>\n",
       "  </thead>\n",
       "  <tbody>\n",
       "    <tr>\n",
       "      <th rowspan=\"4\" valign=\"top\">no</th>\n",
       "      <th>age</th>\n",
       "      <td>1.000000</td>\n",
       "      <td>0.091440</td>\n",
       "      <td>-0.012079</td>\n",
       "      <td>0.009698</td>\n",
       "    </tr>\n",
       "    <tr>\n",
       "      <th>balance</th>\n",
       "      <td>0.091440</td>\n",
       "      <td>1.000000</td>\n",
       "      <td>0.011853</td>\n",
       "      <td>-0.012119</td>\n",
       "    </tr>\n",
       "    <tr>\n",
       "      <th>duration</th>\n",
       "      <td>-0.012079</td>\n",
       "      <td>0.011853</td>\n",
       "      <td>1.000000</td>\n",
       "      <td>-0.099603</td>\n",
       "    </tr>\n",
       "    <tr>\n",
       "      <th>campaign</th>\n",
       "      <td>0.009698</td>\n",
       "      <td>-0.012119</td>\n",
       "      <td>-0.099603</td>\n",
       "      <td>1.000000</td>\n",
       "    </tr>\n",
       "    <tr>\n",
       "      <th rowspan=\"4\" valign=\"top\">yes</th>\n",
       "      <th>age</th>\n",
       "      <td>1.000000</td>\n",
       "      <td>0.122228</td>\n",
       "      <td>-0.027995</td>\n",
       "      <td>-0.020674</td>\n",
       "    </tr>\n",
       "    <tr>\n",
       "      <th>balance</th>\n",
       "      <td>0.122228</td>\n",
       "      <td>1.000000</td>\n",
       "      <td>-0.036677</td>\n",
       "      <td>0.001535</td>\n",
       "    </tr>\n",
       "    <tr>\n",
       "      <th>duration</th>\n",
       "      <td>-0.027995</td>\n",
       "      <td>-0.036677</td>\n",
       "      <td>1.000000</td>\n",
       "      <td>0.160473</td>\n",
       "    </tr>\n",
       "    <tr>\n",
       "      <th>campaign</th>\n",
       "      <td>-0.020674</td>\n",
       "      <td>0.001535</td>\n",
       "      <td>0.160473</td>\n",
       "      <td>1.000000</td>\n",
       "    </tr>\n",
       "  </tbody>\n",
       "</table>\n",
       "</div>"
      ],
      "text/plain": [
       "                   age   balance  duration  campaign\n",
       "y                                                   \n",
       "no  age       1.000000  0.091440 -0.012079  0.009698\n",
       "    balance   0.091440  1.000000  0.011853 -0.012119\n",
       "    duration -0.012079  0.011853  1.000000 -0.099603\n",
       "    campaign  0.009698 -0.012119 -0.099603  1.000000\n",
       "yes age       1.000000  0.122228 -0.027995 -0.020674\n",
       "    balance   0.122228  1.000000 -0.036677  0.001535\n",
       "    duration -0.027995 -0.036677  1.000000  0.160473\n",
       "    campaign -0.020674  0.001535  0.160473  1.000000"
      ]
     },
     "execution_count": 280,
     "metadata": {},
     "output_type": "execute_result"
    }
   ],
   "source": [
    "df[numerical_variables].groupby('y').corr()"
   ]
  },
  {
   "cell_type": "code",
   "execution_count": 281,
   "metadata": {},
   "outputs": [
    {
     "data": {
      "text/html": [
       "<div>\n",
       "<style scoped>\n",
       "    .dataframe tbody tr th:only-of-type {\n",
       "        vertical-align: middle;\n",
       "    }\n",
       "\n",
       "    .dataframe tbody tr th {\n",
       "        vertical-align: top;\n",
       "    }\n",
       "\n",
       "    .dataframe thead th {\n",
       "        text-align: right;\n",
       "    }\n",
       "</style>\n",
       "<table border=\"1\" class=\"dataframe\">\n",
       "  <thead>\n",
       "    <tr style=\"text-align: right;\">\n",
       "      <th></th>\n",
       "      <th>count</th>\n",
       "      <th>mean</th>\n",
       "      <th>std</th>\n",
       "      <th>min</th>\n",
       "      <th>25%</th>\n",
       "      <th>50%</th>\n",
       "      <th>75%</th>\n",
       "      <th>max</th>\n",
       "    </tr>\n",
       "    <tr>\n",
       "      <th>y</th>\n",
       "      <th></th>\n",
       "      <th></th>\n",
       "      <th></th>\n",
       "      <th></th>\n",
       "      <th></th>\n",
       "      <th></th>\n",
       "      <th></th>\n",
       "      <th></th>\n",
       "    </tr>\n",
       "  </thead>\n",
       "  <tbody>\n",
       "    <tr>\n",
       "      <th>no</th>\n",
       "      <td>6352.0</td>\n",
       "      <td>234.191436</td>\n",
       "      <td>111.022439</td>\n",
       "      <td>1.0</td>\n",
       "      <td>153.0</td>\n",
       "      <td>232.0</td>\n",
       "      <td>335.0</td>\n",
       "      <td>871.0</td>\n",
       "    </tr>\n",
       "    <tr>\n",
       "      <th>yes</th>\n",
       "      <td>1905.0</td>\n",
       "      <td>192.521785</td>\n",
       "      <td>123.441816</td>\n",
       "      <td>1.0</td>\n",
       "      <td>94.0</td>\n",
       "      <td>181.0</td>\n",
       "      <td>246.0</td>\n",
       "      <td>854.0</td>\n",
       "    </tr>\n",
       "  </tbody>\n",
       "</table>\n",
       "</div>"
      ],
      "text/plain": [
       "      count        mean         std  min    25%    50%    75%    max\n",
       "y                                                                   \n",
       "no   6352.0  234.191436  111.022439  1.0  153.0  232.0  335.0  871.0\n",
       "yes  1905.0  192.521785  123.441816  1.0   94.0  181.0  246.0  854.0"
      ]
     },
     "metadata": {},
     "output_type": "display_data"
    }
   ],
   "source": [
    "df_has = df[df['pdays'] >= 0]\n",
    "display(df_has.groupby('y')['pdays'].describe())\n",
    "\n",
    "\n",
    "#numerical_variables2 = ['pdays']\n",
    "#for i in numerical_variables2:\n",
    "#    print(i)\n",
    "#    display(df.groupby('y')[i].describe())"
   ]
  },
  {
   "cell_type": "code",
   "execution_count": 282,
   "metadata": {},
   "outputs": [],
   "source": [
    "#print(df['month'].value_counts(normalize=True).round(2))\n",
    "#print(df['month'].value_counts()/len(df.index))\n",
    "#print((df.groupby('y')['month'].value_counts()/len(df.index)))\n",
    "#print(df.groupby('y')['month'].value_counts(normalize=True).sum())"
   ]
  },
  {
   "cell_type": "code",
   "execution_count": 287,
   "metadata": {},
   "outputs": [
    {
     "data": {
      "text/plain": [
       "y    marital \n",
       "no   married     0.540997\n",
       "     single      0.240605\n",
       "     divorced    0.101413\n",
       "yes  married     0.060936\n",
       "     single      0.042291\n",
       "     divorced    0.013758\n",
       "Name: count, dtype: float64"
      ]
     },
     "metadata": {},
     "output_type": "display_data"
    },
    {
     "data": {
      "image/png": "[encoded data removed]",
      "text/plain": [
       "<Figure size 640x480 with 1 Axes>"
      ]
     },
     "metadata": {},
     "output_type": "display_data"
    },
    {
     "data": {
      "text/plain": [
       "y    education\n",
       "no   secondary    0.459003\n",
       "     tertiary     0.250050\n",
       "     primary      0.138462\n",
       "yes  secondary    0.054190\n",
       "     tertiary     0.044149\n",
       "     primary      0.013072\n",
       "Name: count, dtype: float64"
      ]
     },
     "metadata": {},
     "output_type": "display_data"
    },
    {
     "data": {
      "image/png": "[encoded data removed]",
      "text/plain": [
       "<Figure size 640x480 with 1 Axes>"
      ]
     },
     "metadata": {},
     "output_type": "display_data"
    },
    {
     "data": {
      "text/plain": [
       "y    poutcome\n",
       "no   failure     0.094734\n",
       "     other       0.033908\n",
       "     success     0.011789\n",
       "yes  success     0.021632\n",
       "     failure     0.013669\n",
       "     other       0.006790\n",
       "Name: count, dtype: float64"
      ]
     },
     "metadata": {},
     "output_type": "display_data"
    },
    {
     "data": {
      "image/png": "[encoded data removed]",
      "text/plain": [
       "<Figure size 640x480 with 1 Axes>"
      ]
     },
     "metadata": {},
     "output_type": "display_data"
    },
    {
     "data": {
      "text/plain": [
       "y    month\n",
       "no   may      0.284024\n",
       "     jul      0.138639\n",
       "     aug      0.122957\n",
       "     jun      0.106058\n",
       "     nov      0.078897\n",
       "     apr      0.052089\n",
       "     feb      0.048838\n",
       "     jan      0.027891\n",
       "     oct      0.009179\n",
       "     sep      0.006857\n",
       "     mar      0.005065\n",
       "     dec      0.002522\n",
       "yes  may      0.020460\n",
       "     aug      0.015218\n",
       "     jul      0.013868\n",
       "     apr      0.012762\n",
       "     jun      0.012077\n",
       "     feb      0.009754\n",
       "     nov      0.008914\n",
       "     oct      0.007144\n",
       "     sep      0.005950\n",
       "     mar      0.005485\n",
       "     jan      0.003141\n",
       "     dec      0.002212\n",
       "Name: count, dtype: float64"
      ]
     },
     "metadata": {},
     "output_type": "display_data"
    },
    {
     "data": {
      "image/png": "[encoded data removed]",
      "text/plain": [
       "<Figure size 640x480 with 1 Axes>"
      ]
     },
     "metadata": {},
     "output_type": "display_data"
    }
   ],
   "source": [
    "categorical_variables = ['marital','education','poutcome','month']\n",
    "\n",
    "for i in categorical_variables:\n",
    "    prop = []\n",
    "    freq = df.groupby('y')[i].value_counts()/len(df.index)\n",
    "    for j in freq.index:\n",
    "        prop.append(freq[j])\n",
    "\n",
    "    labels = freq.index[0:int(len(prop)/2)]\n",
    "    new_labels = []\n",
    "    for z,name in enumerate(labels):\n",
    "        new_labels.append(name[1])\n",
    "\n",
    "    prop_no = prop[0:int(len(prop)/2)]\n",
    "    prop_yes = prop[int(len(prop)/2) :]\n",
    "\n",
    "    display(freq)\n",
    "    fig, ax = plt.subplots()\n",
    "    width = 0.3\n",
    "    x = np.arange(len(labels))\n",
    "    rects1 = ax.bar(x-width/2, prop_no, width,color = '#d87d37',edgecolor='black',label = 'no')\n",
    "    rects2 = ax.bar(x+width/2, prop_yes, width,color = '#3792d8',edgecolor='black',label = 'yes')\n",
    "    plt.title(i)\n",
    "    plt.xticks(x, new_labels)\n",
    "    ax.legend(handles=[rects1, rects2])\n",
    "    plt.show()"
   ]
  },
  {
   "cell_type": "code",
   "execution_count": 291,
   "metadata": {},
   "outputs": [
    {
     "data": {
      "text/plain": [
       "y    marital \n",
       "no   married     0.540997\n",
       "     single      0.240605\n",
       "     divorced    0.101413\n",
       "yes  married     0.060936\n",
       "     single      0.042291\n",
       "     divorced    0.013758\n",
       "Name: count, dtype: float64"
      ]
     },
     "metadata": {},
     "output_type": "display_data"
    },
    {
     "data": {
      "image/png": "[encoded data removed]",
      "text/plain": [
       "<Figure size 640x480 with 1 Axes>"
      ]
     },
     "metadata": {},
     "output_type": "display_data"
    },
    {
     "data": {
      "text/plain": [
       "y    education\n",
       "no   secondary    0.459003\n",
       "     tertiary     0.250050\n",
       "     primary      0.138462\n",
       "yes  secondary    0.054190\n",
       "     tertiary     0.044149\n",
       "     primary      0.013072\n",
       "Name: count, dtype: float64"
      ]
     },
     "metadata": {},
     "output_type": "display_data"
    },
    {
     "data": {
      "image/png": "[encoded data removed]",
      "text/plain": [
       "<Figure size 640x480 with 1 Axes>"
      ]
     },
     "metadata": {},
     "output_type": "display_data"
    },
    {
     "data": {
      "text/plain": [
       "y    poutcome\n",
       "no   failure     0.094734\n",
       "     other       0.033908\n",
       "     success     0.011789\n",
       "yes  success     0.021632\n",
       "     failure     0.013669\n",
       "     other       0.006790\n",
       "Name: count, dtype: float64"
      ]
     },
     "metadata": {},
     "output_type": "display_data"
    },
    {
     "data": {
      "image/png": "[encoded data removed]",
      "text/plain": [
       "<Figure size 640x480 with 1 Axes>"
      ]
     },
     "metadata": {},
     "output_type": "display_data"
    }
   ],
   "source": [
    "categorical_variables = ['marital','education','poutcome']#\n",
    "\n",
    "for i in categorical_variables:\n",
    "    prop = []\n",
    "    freq = df.groupby('y')[i].value_counts()/len(df.index)#df.groupby('y')[i].value_counts(normalize=True).round(2)\n",
    "    for j in freq.index:\n",
    "        prop.append(freq[j])\n",
    "\n",
    "    labels = freq.index[0:int(len(prop)/2)]\n",
    "    new_labels = []\n",
    "    for z,name in enumerate(labels):\n",
    "        new_labels.append(name[1])\n",
    "\n",
    "    prop_no = prop[0:int(len(prop)/2)]\n",
    "    prop_yes = prop[int(len(prop)/2) :]\n",
    "\n",
    "    weight_counts = {'no':prop_no,'yes':prop_yes}\n",
    "    bottom = np.zeros(len(new_labels))\n",
    "\n",
    "    display(freq)\n",
    "    fig, ax = plt.subplots()\n",
    "    colors = ['#d87d37', '#3792d8']\n",
    "\n",
    "    width = 0.3\n",
    "    x = np.arange(len(labels))\n",
    "    for (i,(boolean, weight_count)) in enumerate(weight_counts.items()):\n",
    "        p = ax.bar(new_labels, weight_count, width, label=boolean, bottom=bottom,color = colors[i],edgecolor='black')\n",
    "        bottom += weight_count\n",
    "    \n",
    "    plt.title(i)\n",
    "    plt.xticks(x, new_labels)\n",
    "    ax.legend(handles=[rects1, rects2])\n",
    "    plt.show()"
   ]
  },
  {
   "cell_type": "code",
   "execution_count": 293,
   "metadata": {},
   "outputs": [
    {
     "data": {
      "image/png": "[encoded data removed]",
      "text/plain": [
       "<Figure size 640x480 with 1 Axes>"
      ]
     },
     "metadata": {},
     "output_type": "display_data"
    }
   ],
   "source": [
    "mounths = ['jan','feb','mar','apr','may','jun','jul','aug','sep','oct','nov','dec']\n",
    "prop_no = []\n",
    "prop_yes = []\n",
    "\n",
    "freq = df.groupby('y')['month'].value_counts()/len(df.index)#df.groupby('y')['month'].value_counts(normalize=True).round(2).sort_index()\n",
    "\n",
    "for i in mounths:\n",
    "    prop_no.append(freq.loc['no',i])\n",
    "    prop_yes.append(freq.loc['yes',i])\n",
    "\n",
    "weight_counts = {'no':prop_no,'yes':prop_yes}\n",
    "bottom = np.zeros(len(mounths))\n",
    "\n",
    "fig, ax = plt.subplots()\n",
    "colors = ['#d87d37', '#3792d8']\n",
    "\n",
    "width = 0.3\n",
    "x = np.arange(len(labels))\n",
    "for (i,(boolean, weight_count)) in enumerate(weight_counts.items()):\n",
    "    p = ax.bar(mounths, weight_count, width, label=boolean, bottom=bottom,color = colors[i],edgecolor='black')\n",
    "    bottom += weight_count\n",
    "    \n",
    "plt.title('proporção por mês')\n",
    "#plt.xticks(x, mounths)\n",
    "ax.legend(handles=[rects1, rects2])\n",
    "plt.show()"
   ]
  },
  {
   "cell_type": "code",
   "execution_count": 294,
   "metadata": {},
   "outputs": [
    {
     "data": {
      "image/png": "[encoded data removed]",
      "text/plain": [
       "<Figure size 640x480 with 1 Axes>"
      ]
     },
     "metadata": {},
     "output_type": "display_data"
    }
   ],
   "source": [
    "mounths = ['jan','feb','mar','apr','may','jun','jul','aug','sep','oct','nov','dec']\n",
    "prop_no = []\n",
    "prop_yes = []\n",
    "\n",
    "freq = df.groupby('y')['month'].value_counts()/len(df.index)#df.groupby('y')['month'].value_counts(normalize=True).round(2)\n",
    "\n",
    "for i in mounths:\n",
    "    prop_no.append(freq.loc['no',i])\n",
    "    prop_yes.append(freq.loc['yes',i])\n",
    "\n",
    "fig, ax = plt.subplots()\n",
    "width = 0.3\n",
    "x = np.arange(len(mounths))\n",
    "rects1 = ax.bar(x-width/2, prop_no, width,color = '#d87d37',edgecolor='black',label = 'no')\n",
    "rects2 = ax.bar(x+width/2, prop_yes, width,color = '#3792d8',edgecolor='black',label = 'yes')\n",
    "plt.title('mounth')\n",
    "plt.xticks(x, mounths)\n",
    "ax.legend(handles=[rects1, rects2])\n",
    "plt.show()"
   ]
  }
 ],
 "metadata": {
  "kernelspec": {
   "display_name": "Python 3",
   "language": "python",
   "name": "python3"
  },
  "language_info": {
   "codemirror_mode": {
    "name": "ipython",
    "version": 3
   },
   "file_extension": ".py",
   "mimetype": "text/x-python",
   "name": "python",
   "nbconvert_exporter": "python",
   "pygments_lexer": "ipython3",
   "version": "3.12.0"
  }
 },
 "nbformat": 4,
 "nbformat_minor": 2
}
