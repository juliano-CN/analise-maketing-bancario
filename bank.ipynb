{
 "cells": [
  {
   "cell_type": "code",
   "execution_count": 1,
   "metadata": {},
   "outputs": [],
   "source": [
    "#https://archive.ics.uci.edu/dataset/222/bank+marketing\n",
    "#importar os dados\n",
    "#desritiva das variaveis\n",
    "#modelo de classificacao\n"
   ]
  },
  {
   "cell_type": "code",
   "execution_count": 2,
   "metadata": {},
   "outputs": [],
   "source": [
    "from ucimlrepo import fetch_ucirepo \n",
    "import pandas as pd\n",
    "\n",
    "bank_marketing = fetch_ucirepo(id=222)\n",
    "\n",
    "X = bank_marketing.data.features\n",
    "y = bank_marketing.data.targets\n",
    "df = pd.concat([y,X],axis=1)"
   ]
  },
  {
   "cell_type": "code",
   "execution_count": 3,
   "metadata": {},
   "outputs": [
    {
     "name": "stdout",
     "output_type": "stream",
     "text": [
      "<class 'pandas.core.frame.DataFrame'>\n",
      "RangeIndex: 45211 entries, 0 to 45210\n",
      "Data columns (total 17 columns):\n",
      " #   Column       Non-Null Count  Dtype \n",
      "---  ------       --------------  ----- \n",
      " 0   y            45211 non-null  object\n",
      " 1   age          45211 non-null  int64 \n",
      " 2   job          44923 non-null  object\n",
      " 3   marital      45211 non-null  object\n",
      " 4   education    43354 non-null  object\n",
      " 5   default      45211 non-null  object\n",
      " 6   balance      45211 non-null  int64 \n",
      " 7   housing      45211 non-null  object\n",
      " 8   loan         45211 non-null  object\n",
      " 9   contact      32191 non-null  object\n",
      " 10  day_of_week  45211 non-null  int64 \n",
      " 11  month        45211 non-null  object\n",
      " 12  duration     45211 non-null  int64 \n",
      " 13  campaign     45211 non-null  int64 \n",
      " 14  pdays        45211 non-null  int64 \n",
      " 15  previous     45211 non-null  int64 \n",
      " 16  poutcome     8252 non-null   object\n",
      "dtypes: int64(7), object(10)\n",
      "memory usage: 5.9+ MB\n"
     ]
    }
   ],
   "source": [
    "df.info()"
   ]
  },
  {
   "cell_type": "code",
   "execution_count": null,
   "metadata": {},
   "outputs": [],
   "source": []
  }
 ],
 "metadata": {
  "kernelspec": {
   "display_name": "Python 3",
   "language": "python",
   "name": "python3"
  },
  "language_info": {
   "codemirror_mode": {
    "name": "ipython",
    "version": 3
   },
   "file_extension": ".py",
   "mimetype": "text/x-python",
   "name": "python",
   "nbconvert_exporter": "python",
   "pygments_lexer": "ipython3",
   "version": "3.12.0"
  }
 },
 "nbformat": 4,
 "nbformat_minor": 2
}
